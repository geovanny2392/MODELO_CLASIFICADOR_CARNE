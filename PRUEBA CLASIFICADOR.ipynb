{
 "cells": [
  {
   "cell_type": "code",
   "execution_count": 63,
   "id": "1540d09f-179f-4251-8ea4-0d0cf2446146",
   "metadata": {
    "tags": []
   },
   "outputs": [],
   "source": [
    "import numpy as np \n",
    "from tensorflow import keras\n",
    "from keras.utils import load_img, img_to_array\n",
    "from keras.models import load_model\n",
    "\n"
   ]
  },
  {
   "cell_type": "code",
   "execution_count": 64,
   "id": "8a9885e8-c848-4b85-bd08-aba89730c4e0",
   "metadata": {
    "tags": []
   },
   "outputs": [],
   "source": [
    "longitud, altura = 100, 100\n",
    "modelo = './modelo/modelo1.h5'\n",
    "pesos_modelo = './modelo/pesos1.h5'\n",
    "model= load_model(modelo)\n",
    "model.load_weights(pesos_modelo)"
   ]
  },
  {
   "cell_type": "code",
   "execution_count": 73,
   "id": "33716c58-c81f-485e-824b-4b2ce7bd7420",
   "metadata": {
    "tags": []
   },
   "outputs": [],
   "source": [
    "def predict(file):\n",
    "  x = load_img(file, target_size=(longitud, altura))\n",
    "  x = img_to_array(x)\n",
    "  x = np.expand_dims(x, axis=0)\n",
    "  array = model.predict(x)\n",
    "  result = array[0]\n",
    "  answer = np.argmax(result)\n",
    "  if answer == 0:\n",
    "    print(\"CLASS_02 \")\n",
    "  elif answer == 1:\n",
    "    print(\"CLASS_03\")\n",
    "  elif answer == 3:\n",
    "    print(\"CLASS_04\")\n",
    "  elif answer == 4:\n",
    "    print(\"CLASS_05\")\n",
    "  elif answer == 5:\n",
    "    print(\"CLASS_06\")\n",
    "  elif answer == 6:\n",
    "    print(\"CLASS_07\")\n",
    "  elif answer == 7:\n",
    "    print(\"CLASS_08\")\n",
    "\n",
    " \n",
    "\n",
    "  return answer"
   ]
  },
  {
   "cell_type": "code",
   "execution_count": 74,
   "id": "d76da60a-a539-4fa1-b8db-a89b39e2a5e1",
   "metadata": {
    "tags": []
   },
   "outputs": [],
   "source": [
    "#image = tf.keras.utils.load_img(image_path)\n",
    "#input_arr = tf.keras.utils.img_to_array(image)\n",
    "#input_arr = np.array([input_arr])  # Convert single image to a batch.\n",
    "#predictions = model.predict(input_arr)\n"
   ]
  },
  {
   "cell_type": "code",
   "execution_count": 97,
   "id": "46a724fb-0d50-4fa6-9428-35ea1eeac427",
   "metadata": {
    "tags": []
   },
   "outputs": [
    {
     "name": "stdout",
     "output_type": "stream",
     "text": [
      "1/1 [==============================] - 0s 38ms/step\n",
      "CLASS_06\n"
     ]
    },
    {
     "data": {
      "text/plain": [
       "5"
      ]
     },
     "execution_count": 97,
     "metadata": {},
     "output_type": "execute_result"
    }
   ],
   "source": [
    "predict('test6.png')"
   ]
  },
  {
   "cell_type": "code",
   "execution_count": null,
   "id": "f9555386-0ad5-46e0-b226-03539dc7b88d",
   "metadata": {},
   "outputs": [],
   "source": [
    "predicted= model.predict"
   ]
  },
  {
   "cell_type": "code",
   "execution_count": null,
   "id": "0623fe18-404c-4953-b939-a174e8878ae2",
   "metadata": {},
   "outputs": [],
   "source": []
  }
 ],
 "metadata": {
  "kernelspec": {
   "display_name": "Python 3 (ipykernel)",
   "language": "python",
   "name": "python3"
  },
  "language_info": {
   "codemirror_mode": {
    "name": "ipython",
    "version": 3
   },
   "file_extension": ".py",
   "mimetype": "text/x-python",
   "name": "python",
   "nbconvert_exporter": "python",
   "pygments_lexer": "ipython3",
   "version": "3.11.4"
  }
 },
 "nbformat": 4,
 "nbformat_minor": 5
}
